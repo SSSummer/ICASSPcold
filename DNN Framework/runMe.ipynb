{
 "cells": [
  {
   "cell_type": "code",
   "execution_count": null,
   "metadata": {},
   "outputs": [],
   "source": [
    "import os\n",
    "import scipy.io as scio\n",
    "import numpy as np\n",
    "from  keras.models import load_model\n",
    "import matplotlib.pyplot as plt\n",
    "\n",
    "\n",
    "def load_data(day,num):\n",
    "    b=[]\n",
    "    loc = []\n",
    "    for i_train in range(day):\n",
    "        for j_train in range(90):\n",
    "            x_box1 = dataset_test['allMfcc'][i_train][j_train]\n",
    "            #x_box_true = np.transpose(x_box1[:,:199])\n",
    "            x_box_true = np.transpose(x_box1)\n",
    "            #x_box_true = x_box1[:,:190]\n",
    "            x_box_true = x_box_true.reshape(-1)\n",
    "            a = x_box_true.tolist()\n",
    "            for n in range(33):\n",
    "                m = (n+1)*3*32\n",
    "                b = a[m-3*32:m]\n",
    "                b.append(num)\n",
    "                loc.append(b)                \n",
    "            #a.append(num)\n",
    "            #loc.append(a)\n",
    "    traindata = np.array(loc)\n",
    "    return traindata\n",
    "\n",
    "def score_SR(true_testdata):\n",
    "    score_m=0\n",
    "    for i in range(90):\n",
    "        temp_pred = np.zeros((1,10))\n",
    "        b_temp = true_testdata[i*33:(i+1)*33, :]\n",
    "        x_temp = b_temp[:, :-1]\n",
    "        y_temp = b_temp[:, -1]\n",
    "        for j in range(33):\n",
    "            pred = model.predict((x_temp[j].reshape(-1,32*3)))\n",
    "            temp_pred = temp_pred + pred\n",
    "        if y_temp[0] == np.argmax(temp_pred):\n",
    "            score_m = score_m +1\n",
    "    \n",
    "    score = score_m / 90\n",
    "    return score\n"
   ]
  },
  {
   "cell_type": "code",
   "execution_count": null,
   "metadata": {
    "collapsed": true
   },
   "outputs": [],
   "source": [
    "%matplotlib qt5"
   ]
  },
  {
   "cell_type": "code",
   "execution_count": null,
   "metadata": {
    "collapsed": true
   },
   "outputs": [],
   "source": [
    "model = load_model('./my_model_32*3_withoutdct_5_tl_03gy_0928cold')\n",
    "\n",
    "\n",
    "path = os.getcwd()\n",
    "path = os.path.join(path, './icassp/mfcc')\n",
    "\n",
    "pathdir = os.getcwd()\n",
    "pathdir = os.path.join(pathdir,'./icassp/dir')\n",
    "\n",
    "\n",
    "\n"
   ]
  },
  {
   "cell_type": "code",
   "execution_count": null,
   "metadata": {
    "scrolled": true
   },
   "outputs": [],
   "source": [
    "plt.figure()\n",
    "j=0\n",
    "filepath = os.listdir(path)\n",
    "filepath.sort()\n",
    "for i in filepath:\n",
    "    print(i)\n",
    "    data_test = os.path.join(path, i)\n",
    "    dataset_test = scio.loadmat(data_test)\n",
    "    day = dataset_test['allMfcc'].shape[0]\n",
    "    num = int(i[14:16])\n",
    "\n",
    "    pipei = i[14:16]\n",
    "    path1 = os.path.join(pathdir, pipei)\n",
    "    file1 = os.listdir(path1)\n",
    "    file1.sort()\n",
    "    x = range(len(file1))\n",
    "    \n",
    "    print(file1)\n",
    "    true_testdata = load_data(day, num)\n",
    "    y = []\n",
    "    for day in range(day):\n",
    "        score = score_SR(true_testdata[day*90*33:(day+1)*90*33])\n",
    "        y.append(score)\n",
    "    print(y)\n",
    "    j = j + 1\n",
    "    plt.subplot(5,2,j)\n",
    "    plt.plot(x,y, \"o-\")\n",
    "    #new_ticks_1 = np.linspace(907, 922,15)\n",
    "    new_ticks_2 = np.linspace(0,1,10)\n",
    "    plt.xticks(x, file1)\n",
    "    plt.yticks(new_ticks_2)\n",
    "    plt.show\n",
    "        \n"
   ]
  },
  {
   "cell_type": "code",
   "execution_count": null,
   "metadata": {
    "collapsed": true
   },
   "outputs": [],
   "source": []
  }
 ],
 "metadata": {
  "kernelspec": {
   "display_name": "Python 2",
   "language": "python",
   "name": "python2"
  },
  "language_info": {
   "codemirror_mode": {
    "name": "ipython",
    "version": 2
   },
   "file_extension": ".py",
   "mimetype": "text/x-python",
   "name": "python",
   "nbconvert_exporter": "python",
   "pygments_lexer": "ipython2",
   "version": "2.7.13"
  }
 },
 "nbformat": 4,
 "nbformat_minor": 2
}
