{
 "cells": [
  {
   "cell_type": "code",
   "execution_count": null,
   "metadata": {},
   "outputs": [],
   "source": [
    "from keras.models import Sequential\n",
    "from keras.layers import Dense,Activation\n",
    "from keras.optimizers import SGD\n",
    "from keras.utils import to_categorical,normalize\n",
    "import pandas as pd\n",
    "import scipy.io as scio\n",
    "import numpy as np\n",
    "from keras.layers.normalization import BatchNormalization\n",
    "from keras.callbacks import EarlyStopping\n",
    "\n",
    "\n",
    "data= './icassp/Mfccwithoutdcttrainew.mat'\n",
    "dataset= scio.loadmat(data)\n",
    "\n"
   ]
  },
  {
   "cell_type": "code",
   "execution_count": null,
   "metadata": {},
   "outputs": [],
   "source": [
    "dataset['allMfcc'].shape"
   ]
  },
  {
   "cell_type": "code",
   "execution_count": null,
   "metadata": {
    "collapsed": true
   },
   "outputs": [],
   "source": [
    "def load_data():\n",
    "    b=[]\n",
    "    loc = []\n",
    "    num = 0\n",
    "    for i_train in range(10):        \n",
    "        for j_train in range(5):\n",
    "            x_box1 = dataset['allMfcc'][i_train][j_train]           \n",
    "            x_box_true = np.transpose(x_box1)            \n",
    "            x_box_true = x_box_true.reshape(-1)\n",
    "            a = x_box_true.tolist()\n",
    "            for n in range(33):\n",
    "                m = (n+1)*3*32\n",
    "                b = a[m-3*32:m]\n",
    "                b.append(num)\n",
    "                loc.append(b)                            \n",
    "        num = num + 1\n",
    "    traindata = np.array(loc)\n",
    "    return traindata"
   ]
  },
  {
   "cell_type": "code",
   "execution_count": null,
   "metadata": {
    "collapsed": true
   },
   "outputs": [],
   "source": [
    "traindata = load_data()"
   ]
  },
  {
   "cell_type": "code",
   "execution_count": null,
   "metadata": {},
   "outputs": [],
   "source": [
    "traindata.shape"
   ]
  },
  {
   "cell_type": "code",
   "execution_count": null,
   "metadata": {
    "collapsed": true
   },
   "outputs": [],
   "source": [
    "def load_data(traindata):\n",
    "    np.random.shuffle(traindata)\n",
    "    testline = int(traindata.shape[0]* (70/100))\n",
    "    x_train = traindata[:testline , : -1]    \n",
    "    y_train = traindata[:testline, -1]\n",
    "    x_test = traindata[testline:, : -1]\n",
    "    y_test = traindata[testline:, -1]\n",
    "    y_train = to_categorical(y_train, 10)\n",
    "    y_test = to_categorical(y_test,10)\n",
    "    return (x_train, y_train), (x_test, y_test)"
   ]
  },
  {
   "cell_type": "code",
   "execution_count": null,
   "metadata": {},
   "outputs": [],
   "source": [
    "(x_train, y_train), (x_test, y_test) = load_data(traindata)\n",
    "\n",
    "print(x_train.shape)\n",
    "print(y_train[0])"
   ]
  },
  {
   "cell_type": "code",
   "execution_count": null,
   "metadata": {
    "scrolled": true
   },
   "outputs": [],
   "source": [
    "model = Sequential()\n",
    "\n",
    "model.add(Dense(input_dim = 32 *3, units = 233))\n",
    "\n",
    "model.add(Activation('relu'))\n",
    "\n",
    "model.add(Dense(units=689))\n",
    "\n",
    "model.add(Activation('relu'))\n",
    "\n",
    "model.add(Dense(units = 689))\n",
    "\n",
    "model.add(Activation('relu'))\n",
    "\n",
    "model.add(Dense(units=233))\n",
    "model.add(Activation('relu'))\n",
    "\n",
    "model.add(Dense(units = 10))\n",
    "\n",
    "model.add(Activation( 'softmax'))\n",
    "\n",
    "model.compile(loss='categorical_crossentropy', optimizer=SGD(lr=0.00001), metrics=['accuracy'])\n",
    "early_stopping = EarlyStopping(monitor='val_loss', patience=2)\n",
    "model.fit(x_train, y_train, batch_size=10,epochs=20000, validation_split=0.2, callbacks=[early_stopping])\n",
    "#model.fit(x_train, y_train, batch_size=1,epochs=20)\n",
    "\n",
    "result = model.evaluate(x_train, y_train)\n",
    "print(\"\\nTrain Acc: \", result[1])\n",
    "\n",
    "result = model.evaluate(x_test, y_test)\n",
    "print(\"\\nTest Acc: \", result[1])\n",
    "\n",
    "classes = model.predict_classes(x_train[0:1,:])\n",
    "print(classes)"
   ]
  },
  {
   "cell_type": "code",
   "execution_count": null,
   "metadata": {
    "collapsed": true
   },
   "outputs": [],
   "source": [
    "model.save('./my_model_32*3_withoutdct_5')"
   ]
  },
  {
   "cell_type": "code",
   "execution_count": null,
   "metadata": {
    "collapsed": true
   },
   "outputs": [],
   "source": []
  },
  {
   "cell_type": "code",
   "execution_count": null,
   "metadata": {
    "collapsed": true
   },
   "outputs": [],
   "source": []
  }
 ],
 "metadata": {
  "kernelspec": {
   "display_name": "Python 2",
   "language": "python",
   "name": "python2"
  },
  "language_info": {
   "codemirror_mode": {
    "name": "ipython",
    "version": 2
   },
   "file_extension": ".py",
   "mimetype": "text/x-python",
   "name": "python",
   "nbconvert_exporter": "python",
   "pygments_lexer": "ipython2",
   "version": "2.7.13"
  }
 },
 "nbformat": 4,
 "nbformat_minor": 2
}
